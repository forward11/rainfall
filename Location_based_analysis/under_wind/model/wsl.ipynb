{
 "metadata": {
  "language_info": {
   "codemirror_mode": {
    "name": "ipython",
    "version": 3
   },
   "file_extension": ".py",
   "mimetype": "text/x-python",
   "name": "python",
   "nbconvert_exporter": "python",
   "pygments_lexer": "ipython3",
   "version": "3.8.3-final"
  },
  "orig_nbformat": 2,
  "kernelspec": {
   "name": "python3",
   "display_name": "Python 3.8.3 64-bit (conda)",
   "metadata": {
    "interpreter": {
     "hash": "7b4b4feff2f24a0f0a34464dbe537a36fda679851528fb8735cb41fa49dffb2d"
    }
   }
  }
 },
 "nbformat": 4,
 "nbformat_minor": 2,
 "cells": [
  {
   "cell_type": "code",
   "execution_count": null,
   "metadata": {},
   "outputs": [],
   "source": [
    "import pandas as pd\n",
    "import matplotlib.pyplot as plt"
   ]
  },
  {
   "cell_type": "code",
   "execution_count": null,
   "metadata": {},
   "outputs": [],
   "source": [
    "data=pd.read_csv(r\"E:\\rainfall\\Location_based_analysis\\under_wind\\wsl.csv\",encoding=\"ISO-8859-1\",index_col=0)\r\n",
    "info = pd.read_excel(r\"E:\\rainfall\\Location_based_analysis\\under_wind\\data\\wsl\\StationInfo.xlsx\")\r\n",
    "station, lon, lat = info['台站号'], info['经度'], info['纬度']\r\n",
    "wd_x,wd_y = data['WD_x'],data['WD_y']\r\n",
    "\r\n",
    "data"
   ]
  },
  {
   "cell_type": "code",
   "execution_count": null,
   "metadata": {},
   "outputs": [],
   "source": [
    "for i in range(len(data)):\n",
    "    plt.figure(figsize=(6.4 * 3, 4.8 * 3))\n",
    "\n",
    "\n",
    "colors = ['#1f77b4', '#ff7f0e', '#2ca02c', '#d62728', '#9467bd', '#8c564b', '#e377c2','#A9A9A9']"
   ]
  },
  {
   "cell_type": "code",
   "execution_count": null,
   "metadata": {},
   "outputs": [],
   "source": [
    "for j in range(8):\n",
    "    if temp[j] < 5.0:\n",
    "         plt.plot(lon[j], lat[j], 'o', c=colors[j], markersize=10, label=station[j])\n",
    "    else:\n",
    "        plt.plot(lon[j], lat[j], 'o', c=colors[j], markersize=temp[j]*1.05, label=station[j])\n",
    "    if temp[j] == 0.0:\n",
    "        plt.text(lon[j], lat[j]+0.001, '0', ha='center', va='bottom', fontsize=26)\n",
    "    elif 0 < temp[j]/5 < 25:\n",
    "        plt.text(lon[j], lat[j]+0.003*(temp[j]/40), str(round(temp[j]/5, 2)), ha='center', va='bottom', fontsize=26)\n",
    "    else:\n",
    "        plt.text(lon[j], lat[j], str(round(temp[j]/5, 2)), ha='center', va='center', fontsize=26,  fontweight='bold')\n",
    "plt.plot(lon[12], lat[12], '*', c='k', label=station[12], markersize=40)\n",
    "plt.arrow(lon[12], lat[12],wd_x[0]*0.001,wd_y[0]*0.001)\n",
    "plt.arrow(lon[12], lat[12]+0.005,wd_x[0]*0.001,wd_y[0]*0.001)\n",
    "plt.arrow(lon[12], lat[12]-0.005,wd_x[0]*0.001,wd_y[0]*0.001)\n",
    "\n",
    "plt.plot(lon[10], lat[10], '*', c='red', label=station[10], markersize=40)\n",
    "plt.arrow(lon[10], lat[10],wd_x[10]*0.001,wd_y[10]*0.001)\n",
    "plt.arrow(lon[10], lat[10]+0.005,wd_x[10]*0.001,wd_y[10]*0.001)\n",
    "plt.arrow(lon[10], lat[10]-0.005,wd_x[10]*0.001,wd_y[10]*0.001)"
   ]
  },
  {
   "cell_type": "code",
   "execution_count": null,
   "metadata": {},
   "outputs": [],
   "source": [
    "wd_x[1]*0.01"
   ]
  },
  {
   "cell_type": "code",
   "execution_count": null,
   "metadata": {},
   "outputs": [],
   "source": [
    "data[0:1].index.values.tolist()"
   ]
  },
  {
   "cell_type": "code",
   "execution_count": 1,
   "metadata": {},
   "outputs": [
    {
     "output_type": "execute_result",
     "data": {
      "text/plain": [
       "   台站类型        台站号          经度         纬度\n",
       "0   雨量站      R0001  102.909013  37.210511\n",
       "1   雨量站      R0002  102.878327  37.205510\n",
       "2   雨量站      R0003  102.884368  37.165511\n",
       "3   雨量站      R0004  102.882639  37.185618\n",
       "4   雨量站      R0005  102.900749  37.215397\n",
       "5   雨量站      R0006  102.936537  37.214248\n",
       "6   雨量站      R0007  102.925111  37.228041\n",
       "7   雨量站      R0008  102.892945  37.168056\n",
       "8   综合站      W0001  102.892916  37.235569\n",
       "9   综合站      W0002  102.877393  37.210741\n",
       "10  综合站      W0003  102.906067  37.236431\n",
       "11  综合站      W0004  102.917817  37.155366\n",
       "12  单电极  MonoPolar  102.891500  37.200944\n",
       "13  双电极    BiPolar  102.867861  37.197500"
      ],
      "text/html": "<div>\n<style scoped>\n    .dataframe tbody tr th:only-of-type {\n        vertical-align: middle;\n    }\n\n    .dataframe tbody tr th {\n        vertical-align: top;\n    }\n\n    .dataframe thead th {\n        text-align: right;\n    }\n</style>\n<table border=\"1\" class=\"dataframe\">\n  <thead>\n    <tr style=\"text-align: right;\">\n      <th></th>\n      <th>台站类型</th>\n      <th>台站号</th>\n      <th>经度</th>\n      <th>纬度</th>\n    </tr>\n  </thead>\n  <tbody>\n    <tr>\n      <th>0</th>\n      <td>雨量站</td>\n      <td>R0001</td>\n      <td>102.909013</td>\n      <td>37.210511</td>\n    </tr>\n    <tr>\n      <th>1</th>\n      <td>雨量站</td>\n      <td>R0002</td>\n      <td>102.878327</td>\n      <td>37.205510</td>\n    </tr>\n    <tr>\n      <th>2</th>\n      <td>雨量站</td>\n      <td>R0003</td>\n      <td>102.884368</td>\n      <td>37.165511</td>\n    </tr>\n    <tr>\n      <th>3</th>\n      <td>雨量站</td>\n      <td>R0004</td>\n      <td>102.882639</td>\n      <td>37.185618</td>\n    </tr>\n    <tr>\n      <th>4</th>\n      <td>雨量站</td>\n      <td>R0005</td>\n      <td>102.900749</td>\n      <td>37.215397</td>\n    </tr>\n    <tr>\n      <th>5</th>\n      <td>雨量站</td>\n      <td>R0006</td>\n      <td>102.936537</td>\n      <td>37.214248</td>\n    </tr>\n    <tr>\n      <th>6</th>\n      <td>雨量站</td>\n      <td>R0007</td>\n      <td>102.925111</td>\n      <td>37.228041</td>\n    </tr>\n    <tr>\n      <th>7</th>\n      <td>雨量站</td>\n      <td>R0008</td>\n      <td>102.892945</td>\n      <td>37.168056</td>\n    </tr>\n    <tr>\n      <th>8</th>\n      <td>综合站</td>\n      <td>W0001</td>\n      <td>102.892916</td>\n      <td>37.235569</td>\n    </tr>\n    <tr>\n      <th>9</th>\n      <td>综合站</td>\n      <td>W0002</td>\n      <td>102.877393</td>\n      <td>37.210741</td>\n    </tr>\n    <tr>\n      <th>10</th>\n      <td>综合站</td>\n      <td>W0003</td>\n      <td>102.906067</td>\n      <td>37.236431</td>\n    </tr>\n    <tr>\n      <th>11</th>\n      <td>综合站</td>\n      <td>W0004</td>\n      <td>102.917817</td>\n      <td>37.155366</td>\n    </tr>\n    <tr>\n      <th>12</th>\n      <td>单电极</td>\n      <td>MonoPolar</td>\n      <td>102.891500</td>\n      <td>37.200944</td>\n    </tr>\n    <tr>\n      <th>13</th>\n      <td>双电极</td>\n      <td>BiPolar</td>\n      <td>102.867861</td>\n      <td>37.197500</td>\n    </tr>\n  </tbody>\n</table>\n</div>"
     },
     "metadata": {},
     "execution_count": 1
    }
   ],
   "source": [
    "import pandas as pd\n",
    "df=pd.read_excel(r\"E:\\rainfall\\Location_based_analysis\\under_wind\\data\\wsl\\StationInfo.xlsx\")\n",
    "df"
   ]
  }
 ]
}