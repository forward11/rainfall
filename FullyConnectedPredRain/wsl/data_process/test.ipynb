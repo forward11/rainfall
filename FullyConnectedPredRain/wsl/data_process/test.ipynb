{
 "metadata": {
  "language_info": {
   "codemirror_mode": {
    "name": "ipython",
    "version": 3
   },
   "file_extension": ".py",
   "mimetype": "text/x-python",
   "name": "python",
   "nbconvert_exporter": "python",
   "pygments_lexer": "ipython3",
   "version": "3.8.3"
  },
  "orig_nbformat": 2,
  "kernelspec": {
   "name": "python383jvsc74a57bd07b4b4feff2f24a0f0a34464dbe537a36fda679851528fb8735cb41fa49dffb2d",
   "display_name": "Python 3.8.3 64-bit (virtualenv)"
  }
 },
 "nbformat": 4,
 "nbformat_minor": 2,
 "cells": [
  {
   "cell_type": "code",
   "execution_count": 2,
   "metadata": {},
   "outputs": [],
   "source": [
    "import pandas as pd\n",
    "import os"
   ]
  },
  {
   "cell_type": "code",
   "execution_count": 10,
   "metadata": {},
   "outputs": [],
   "source": [
    "files = os.listdir(r\"C:\\Users\\11016\\Desktop\\2018\")\n",
    "df_temp = []\n",
    "for file in files:\n",
    "    df = pd.read_csv(os.path.join(\"C:\\\\Users\\\\11016\\\\Desktop\\\\2018\",file))\n",
    "    df_temp.append(df)\n",
    "df1= pd.concat(df_temp)\n",
    "df1.to_csv(\"C:\\\\Users\\\\11016\\\\Desktop\\\\2018\\\\all.csv\")"
   ]
  }
 ]
}