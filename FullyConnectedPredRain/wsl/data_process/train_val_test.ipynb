{
 "metadata": {
  "language_info": {
   "codemirror_mode": {
    "name": "ipython",
    "version": 3
   },
   "file_extension": ".py",
   "mimetype": "text/x-python",
   "name": "python",
   "nbconvert_exporter": "python",
   "pygments_lexer": "ipython3",
   "version": "3.8.3-final"
  },
  "orig_nbformat": 2,
  "kernelspec": {
   "name": "python383jvsc74a57bd07b4b4feff2f24a0f0a34464dbe537a36fda679851528fb8735cb41fa49dffb2d",
   "display_name": "Python 3.8.3 64-bit (virtualenv)"
  }
 },
 "nbformat": 4,
 "nbformat_minor": 2,
 "cells": [
  {
   "cell_type": "code",
   "execution_count": 5,
   "metadata": {},
   "outputs": [],
   "source": [
    "import pandas as pd\n",
    "\n"
   ]
  },
  {
   "cell_type": "code",
   "execution_count": 7,
   "metadata": {},
   "outputs": [],
   "source": [
    "df=pd.read_csv(\"E:\\\\rainfall\\\\FullyConnectedPredRain\\\\wsl\\\\data\\\\wsl\\\\train.csv\")\n",
    "\n",
    "df =df[['year','month','day','hour','WD','WV','airPressure','Transformation_3h','rainfall_6h','lowCloudiness','lowCloudCover','lowCloudHigh','dewPoint','currentWeather','temperature']]\n",
    "df.to_csv(\"E:\\\\rainfall\\\\FullyConnectedPredRain\\\\wsl\\\\data\\\\wsl\\\\train.csv\")"
   ]
  }
 ]
}