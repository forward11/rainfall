{
 "metadata": {
  "language_info": {
   "codemirror_mode": {
    "name": "ipython",
    "version": 3
   },
   "file_extension": ".py",
   "mimetype": "text/x-python",
   "name": "python",
   "nbconvert_exporter": "python",
   "pygments_lexer": "ipython3",
   "version": "3.8.3"
  },
  "orig_nbformat": 2,
  "kernelspec": {
   "name": "python383jvsc74a57bd07b4b4feff2f24a0f0a34464dbe537a36fda679851528fb8735cb41fa49dffb2d",
   "display_name": "Python 3.8.3 64-bit (conda)"
  }
 },
 "nbformat": 4,
 "nbformat_minor": 2,
 "cells": [
  {
   "cell_type": "code",
   "execution_count": 3,
   "metadata": {},
   "outputs": [],
   "source": [
    "import pandas as pd\n",
    "import os\n",
    "path = \"E:\\\\rainfall\\\\FullyConnectedPredRain\\\\wsl_evaluation\\\\data\\\\\"\n",
    "classifies = ['train','val','test']\n",
    "for classify in classifies:\n",
    "    df_wsl = pd.read_csv(path+classify+\"_wsl.csv\")\n",
    "    df_ww = pd.read_csv(path+classify+\"_wuwei.csv\")\n",
    "    df_yc = pd.read_csv(path+classify+\"_yongchang.csv\")\n",
    "    df_wsl = df_wsl[['year','month','day','hour','rainfall_6h',\n",
    "                'totalCloud','WD','WV','Transformation_3h','dewPoint',\n",
    "                'visibility','temperature','temperatureChange_24h','transformer_24h']]\n",
    "    df_wsl['rainfall_ww'] = df_ww['rainfall_6h']\n",
    "    df_wsl['rainfall_yc'] = df_yc['rainfall_6h']\n",
    "    df_wsl.to_csv(path+classify+\".csv\", index=False)\n"
   ]
  },
  {
   "source": [
    "## resample"
   ],
   "cell_type": "markdown",
   "metadata": {}
  },
  {
   "cell_type": "code",
   "execution_count": 4,
   "metadata": {},
   "outputs": [],
   "source": [
    "import pandas as pd\n",
    "files = ['train','val','test']\n",
    "for file in files:\n",
    "    df=pd.read_csv(\"E:\\\\rainfall\\\\FullyConnectedPredRain\\\\wsl_evaluation\\\\data\\\\concat\\\\\"+file+\".csv\")\n",
    "    periods = pd.PeriodIndex(year=df[\"year\"], month=df[\"month\"], day=df[\"day\"], hour=df['hour'], freq=\"H\")\n",
    "    df=df.set_index(periods)\n",
    "    df['rainfall']=df['rainfall_6h']/2      #每三小时的数据\n",
    "    df['rainfall_ww']=df['rainfall_ww']/2\n",
    "    df['rainfall_yc']=df['rainfall_yc']/2\n",
    "    df = df.resample('D').mean()\n",
    "    df['rainfall'] = df['rainfall']*8       #每天的降雨量\n",
    "    df['rainfall_ww'] = df['rainfall_ww']*8\n",
    "    df['rainfall_yc'] = df['rainfall_yc']*8\n",
    "    df = df.dropna(axis=0, how='any')      #去掉nan行\n",
    "    df.to_csv(\"E:\\\\rainfall\\\\FullyConnectedPredRain\\\\wsl_evaluation\\\\data\\\\concat\\\\\"+file+\".csv\")"
   ]
  }
 ]
}